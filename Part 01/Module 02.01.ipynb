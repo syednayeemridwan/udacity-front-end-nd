{
 "cells": [
  {
   "cell_type": "markdown",
   "metadata": {},
   "source": [
    "# 02"
   ]
  },
  {
   "cell_type": "markdown",
   "metadata": {},
   "source": [
    "- Each element of HTML is enclosed within an opening and a closing tag:\n",
    "```\n",
    "<tag> element contents </tag>\n",
    "```"
   ]
  },
  {
   "cell_type": "markdown",
   "metadata": {},
   "source": [
    "# 03"
   ]
  },
  {
   "cell_type": "markdown",
   "metadata": {},
   "source": [
    "- `<p>` = It remains by itself. So there will be a line break.\n",
    "- `<span>` = They are part of a line."
   ]
  },
  {
   "cell_type": "markdown",
   "metadata": {},
   "source": [
    "# 04"
   ]
  },
  {
   "cell_type": "markdown",
   "metadata": {},
   "source": [
    "- You need a good browser = Chrome\n",
    "- You need a good text editor = VS-Code"
   ]
  },
  {
   "cell_type": "markdown",
   "metadata": {},
   "source": [
    "# 07"
   ]
  },
  {
   "cell_type": "markdown",
   "metadata": {},
   "source": [
    "Use your monitor in 2 parts:\n",
    "- Left side for editor\n",
    "- Right side for chrome to see the output in browser of what code you wrote"
   ]
  },
  {
   "cell_type": "markdown",
   "metadata": {},
   "source": [
    "# 08"
   ]
  },
  {
   "cell_type": "markdown",
   "metadata": {},
   "source": [
    "- Element can be parents of other elements\n",
    "- Children can also hold other elements"
   ]
  },
  {
   "cell_type": "markdown",
   "metadata": {},
   "source": [
    "# 09"
   ]
  },
  {
   "cell_type": "markdown",
   "metadata": {},
   "source": [
    "```\n",
    "<parent_tag>\n",
    "    <child_tag>\n",
    "        some content\n",
    "    </child_tag>\n",
    "</parent_tag>\n",
    "\n",
    "```"
   ]
  },
  {
   "cell_type": "markdown",
   "metadata": {},
   "source": [
    "# 10"
   ]
  },
  {
   "cell_type": "markdown",
   "metadata": {},
   "source": [
    "- Always use mozilla developers network (mdn) for documentation\n",
    "- Ctrl + F and search with text or google search with `html keyword mdn` "
   ]
  },
  {
   "cell_type": "markdown",
   "metadata": {},
   "source": [
    "# 11"
   ]
  },
  {
   "cell_type": "markdown",
   "metadata": {},
   "source": [
    "```\n",
    "<!DOCTYPE html>\n",
    "<html>\n",
    "    <head>\n",
    "        // Meta information\n",
    "    </head>\n",
    "    <body>\n",
    "        // Contents of page\n",
    "    </body>\n",
    "</html>\n",
    "```"
   ]
  },
  {
   "cell_type": "markdown",
   "metadata": {},
   "source": [
    "- `DOCTYPE`: Describes the type of HTML. So `<!DOCTYPE html>`.\n",
    "- `<head>`: Describes meta information about the site, such as the title, and provides links to scripts and stylesheets the site needs to render and behave correctly.\n",
    "- `<body>`: Describes the actual content of the site that users will see."
   ]
  },
  {
   "cell_type": "markdown",
   "metadata": {},
   "source": [
    "# 13. All the basics of HTML syntax"
   ]
  },
  {
   "cell_type": "markdown",
   "metadata": {},
   "source": [
    "`<head>` is responsible for:\n",
    "\n",
    "- The document’s title (the text that shows up in browser tabs): `<title>About Me</title>`.\n",
    "- associated CSS files (for style): `<link rel=\"stylesheet\" type=\"text/css\" href=\"style.css\">`.\n",
    "- associated JavaScript files (multipurpose scripts to change rendering and behavior): `<script src=\"animations.js\"></script>`.\n",
    "- the charset being used (the text's encoding): `<meta charset=\"utf-8\">`.\n",
    "- keywords, authors, and descriptions (often useful for SEO): `<meta name=\"description\" content=\"This is what my website is all about!\">` etc."
   ]
  },
  {
   "cell_type": "markdown",
   "metadata": {},
   "source": [
    "Use [HTML VALIDATOR](https://validator.w3.org/#validate_by_input) to  analyze your website and verify that you're writing valid HTML. "
   ]
  },
  {
   "cell_type": "markdown",
   "metadata": {},
   "source": [
    "Inside validator, this will show warnings and errors:\n",
    "```\n",
    "<h1>This is a title</h1>\n",
    "```"
   ]
  },
  {
   "cell_type": "markdown",
   "metadata": {},
   "source": [
    "Correcting the format, this will show no warnings/ errors:\n",
    "```\n",
    "<!DOCTYPE html>\n",
    "<html lang=\"en\">\n",
    "    <head>\n",
    "        <title> This is a title </title>\n",
    "    </head>\n",
    "    <body>\n",
    "        <h1> This is a title </h1>\n",
    "    </body>\n",
    "</html>\n",
    "```"
   ]
  }
 ],
 "metadata": {
  "language_info": {
   "name": "python"
  },
  "orig_nbformat": 4
 },
 "nbformat": 4,
 "nbformat_minor": 2
}
