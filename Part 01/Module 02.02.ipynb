{
 "cells": [
  {
   "cell_type": "markdown",
   "metadata": {},
   "source": [
    "# 02. Make a Button"
   ]
  },
  {
   "cell_type": "markdown",
   "metadata": {},
   "source": [
    "search google with `html button mdn`"
   ]
  },
  {
   "cell_type": "markdown",
   "metadata": {},
   "source": [
    "```\n",
    "<button>a button!</button> \n",
    "```"
   ]
  },
  {
   "cell_type": "markdown",
   "metadata": {},
   "source": [
    "# 04. Make All the Headers"
   ]
  },
  {
   "cell_type": "markdown",
   "metadata": {},
   "source": [
    "search google with `html headers mdn`"
   ]
  },
  {
   "cell_type": "markdown",
   "metadata": {},
   "source": [
    "```\n",
    "<h1>This is a header</h1>\n",
    "<h2>This is a sub-header</h2>\n",
    "```"
   ]
  },
  {
   "cell_type": "markdown",
   "metadata": {},
   "source": [
    "# 05. Make a List"
   ]
  },
  {
   "cell_type": "markdown",
   "metadata": {},
   "source": [
    "search google with `html list mdn`\n"
   ]
  },
  {
   "cell_type": "markdown",
   "metadata": {},
   "source": [
    "```\n",
    "<ol>  // ordered list\n",
    "    <li> item1 </li>\n",
    "    <li> item2 </li>\n",
    "    <li> item3 </li>\n",
    "</ol>\n",
    "\n",
    "<ul>  // unordered list\n",
    "    <li> item1 </li>\n",
    "    <li> item2 </li>\n",
    "    <li> item3 </li>\n",
    "</ul>\n",
    "\n",
    "```"
   ]
  },
  {
   "cell_type": "markdown",
   "metadata": {},
   "source": [
    "# 06. Tree to HTML"
   ]
  },
  {
   "cell_type": "markdown",
   "metadata": {},
   "source": [
    "`body` tag has 2 childs `h1` and `div`. `div` has 2 childs `p` and `p`. except `div` every tag has text contents."
   ]
  },
  {
   "cell_type": "markdown",
   "metadata": {},
   "source": [
    "```\n",
    "<body>\n",
    "    <h1> This is a header content</h1>\n",
    "    <div>\n",
    "        <p> This is paragraph1 content </p>\n",
    "        <p> This is paragraph2 content </p>\n",
    "    </div>    \n",
    "</body>\n",
    "```"
   ]
  },
  {
   "cell_type": "markdown",
   "metadata": {},
   "source": [
    "# 07. Constructing Links"
   ]
  },
  {
   "cell_type": "markdown",
   "metadata": {},
   "source": [
    "The power of the web is that pages can lead to other pages. When you click on a link on a web page, it takes you to another page. This link is called a hyperlink."
   ]
  },
  {
   "cell_type": "markdown",
   "metadata": {},
   "source": [
    "`<a href=\"https://www.udacity.com\">Udacity</a>`"
   ]
  },
  {
   "cell_type": "markdown",
   "metadata": {},
   "source": [
    "# 08. Add an Image"
   ]
  },
  {
   "cell_type": "markdown",
   "metadata": {},
   "source": [
    "`<img src=\"http://somewebsite.com/image.jpg\" alt=\"short description\">`"
   ]
  },
  {
   "cell_type": "markdown",
   "metadata": {},
   "source": [
    "# 09. A Guide to Paths"
   ]
  },
  {
   "cell_type": "markdown",
   "metadata": {},
   "source": [
    "Every file has an address, which we call the \"path.\"\n",
    "\n",
    "- Absolute Path : Location from root\n",
    "- Relative Path : Location from a current directory"
   ]
  },
  {
   "cell_type": "markdown",
   "metadata": {},
   "source": [
    "# 10. Figures"
   ]
  },
  {
   "cell_type": "markdown",
   "metadata": {},
   "source": [
    "```\n",
    "<figure>\n",
    "    <img src=\"/media/cc0-images/elephant-660-480.jpg\"\n",
    "         alt=\"Elephant at sunset\">\n",
    "    <figcaption>An elephant at sunset</figcaption>\n",
    "</figure>\n",
    "    \n",
    "```"
   ]
  },
  {
   "cell_type": "markdown",
   "metadata": {},
   "source": [
    "# 11. Mockup to Website"
   ]
  },
  {
   "cell_type": "markdown",
   "metadata": {},
   "source": [
    "```\n",
    "<h1> Hottest Jobs </h1>\n",
    "\n",
    "<p> By <em><strong> Abir </strong></em> </p>\n",
    "\n",
    "<p> January 01, 2022 </p>\n",
    "\n",
    "<img src=\"path\" alt=\"Jobs\">\n",
    "\n",
    "<div>\n",
    "some contents to share\n",
    "</div>\n",
    "```"
   ]
  }
 ],
 "metadata": {
  "kernelspec": {
   "display_name": "Python 3.8.3 ('base')",
   "language": "python",
   "name": "python3"
  },
  "language_info": {
   "name": "python",
   "version": "3.8.3"
  },
  "orig_nbformat": 4,
  "vscode": {
   "interpreter": {
    "hash": "dc575bfddb5c8ca4bb6a4f4dcdd32abc104b5fa4177361381c432fff36ce3e46"
   }
  }
 },
 "nbformat": 4,
 "nbformat_minor": 2
}
