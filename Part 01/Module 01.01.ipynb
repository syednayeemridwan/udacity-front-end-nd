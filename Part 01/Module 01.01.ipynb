{
 "cells": [
  {
   "cell_type": "markdown",
   "metadata": {},
   "source": [
    "# 02"
   ]
  },
  {
   "cell_type": "markdown",
   "metadata": {},
   "source": [
    "- HTML = Describes content and structure of the website\n",
    "- CSS = Describes styling of the website\n",
    "- JS = Describes all the interactions"
   ]
  },
  {
   "cell_type": "markdown",
   "metadata": {},
   "source": [
    "# 03"
   ]
  },
  {
   "cell_type": "markdown",
   "metadata": {},
   "source": [
    "- Web Technology is constantly changing and evolving\n",
    "- So you need to keep learning to keep up with new features\n",
    "- Your website should never break (must have great backward-compatibility with any browser)"
   ]
  },
  {
   "cell_type": "markdown",
   "metadata": {},
   "source": [
    "# 04"
   ]
  },
  {
   "cell_type": "markdown",
   "metadata": {},
   "source": [
    "Great problem solving strategies:\n",
    "- Take a break\n",
    "- Copy and paste error messages in google\n",
    "- Stackoverflow\n",
    "- Ask a community (Ask for help)\n",
    "- Re-think what you are doing (with shapes of ideas)\n",
    "- Draw picture for complicated tasks (You can make better decision when you see the whole picture)\n",
    "- Mistakes are learning opportunities (You are not wrong. You are just not right yet.)\n"
   ]
  }
 ],
 "metadata": {
  "language_info": {
   "name": "python"
  },
  "orig_nbformat": 4
 },
 "nbformat": 4,
 "nbformat_minor": 2
}
